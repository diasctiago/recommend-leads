{
 "cells": [
  {
   "cell_type": "markdown",
   "metadata": {},
   "source": [
    "# Projeto Final - AceleraDev Data Science 2020"
   ]
  },
  {
   "cell_type": "markdown",
   "metadata": {},
   "source": [
    "### Importando bibliotecas"
   ]
  },
  {
   "cell_type": "code",
   "execution_count": 1,
   "metadata": {},
   "outputs": [],
   "source": [
    "import numpy as np\n",
    "import pandas as pd\n",
    "from pandas import DataFrame\n",
    "import scipy.stats as stats\n",
    "import matplotlib.pyplot as plt\n",
    "import seaborn as sns\n",
    "import squarify as sqy\n",
    "from sklearn.decomposition import PCA\n",
    "from sklearn.preprocessing import LabelEncoder\n",
    "from sklearn.cluster import KMeans\n",
    "\n",
    "import warnings\n",
    "warnings.simplefilter(action = 'ignore')"
   ]
  },
  {
   "cell_type": "markdown",
   "metadata": {},
   "source": [
    "### Importando DATASETs"
   ]
  },
  {
   "cell_type": "markdown",
   "metadata": {},
   "source": [
    "##### Lendo DATASET"
   ]
  },
  {
   "cell_type": "markdown",
   "metadata": {},
   "source": [
    "##### Criando um dicionário(features_types) para alterar o tipo do dtype de float64 para float16"
   ]
  },
  {
   "cell_type": "code",
   "execution_count": 2,
   "metadata": {},
   "outputs": [],
   "source": [
    "features = pd.read_csv('features_dictionary.csv')"
   ]
  },
  {
   "cell_type": "code",
   "execution_count": 3,
   "metadata": {},
   "outputs": [],
   "source": [
    "features = features.query('Dtype_Ajustado == \"int16\" or Dtype_Ajustado == \"float16\"')"
   ]
  },
  {
   "cell_type": "code",
   "execution_count": 4,
   "metadata": {},
   "outputs": [],
   "source": [
    "features_types = dict(list(features[['Column','Dtype_Ajustado']].values))"
   ]
  },
  {
   "cell_type": "markdown",
   "metadata": {},
   "source": [
    "##### DataFrame principal"
   ]
  },
  {
   "cell_type": "code",
   "execution_count": 5,
   "metadata": {},
   "outputs": [],
   "source": [
    "df = pd.read_csv('estaticos_market.csv', dtype= features_types, error_bad_lines=False)"
   ]
  },
  {
   "cell_type": "code",
   "execution_count": 6,
   "metadata": {},
   "outputs": [
    {
     "name": "stdout",
     "output_type": "stream",
     "text": [
      "<class 'pandas.core.frame.DataFrame'>\n",
      "RangeIndex: 462298 entries, 0 to 462297\n",
      "Columns: 182 entries, Unnamed: 0 to qt_filiais\n",
      "dtypes: bool(9), float16(133), float64(11), int16(2), object(27)\n",
      "memory usage: 209.4+ MB\n"
     ]
    }
   ],
   "source": [
    "df.info()"
   ]
  },
  {
   "cell_type": "code",
   "execution_count": 7,
   "metadata": {},
   "outputs": [
    {
     "data": {
      "text/plain": [
       "(462298, 182)"
      ]
     },
     "execution_count": 7,
     "metadata": {},
     "output_type": "execute_result"
    }
   ],
   "source": [
    "df.shape"
   ]
  },
  {
   "cell_type": "code",
   "execution_count": 8,
   "metadata": {},
   "outputs": [
    {
     "data": {
      "text/html": [
       "<div>\n",
       "<style scoped>\n",
       "    .dataframe tbody tr th:only-of-type {\n",
       "        vertical-align: middle;\n",
       "    }\n",
       "\n",
       "    .dataframe tbody tr th {\n",
       "        vertical-align: top;\n",
       "    }\n",
       "\n",
       "    .dataframe thead th {\n",
       "        text-align: right;\n",
       "    }\n",
       "</style>\n",
       "<table border=\"1\" class=\"dataframe\">\n",
       "  <thead>\n",
       "    <tr style=\"text-align: right;\">\n",
       "      <th></th>\n",
       "      <th>Unnamed: 0</th>\n",
       "      <th>id</th>\n",
       "      <th>fl_matriz</th>\n",
       "      <th>de_natureza_juridica</th>\n",
       "      <th>sg_uf</th>\n",
       "      <th>natureza_juridica_macro</th>\n",
       "      <th>de_ramo</th>\n",
       "      <th>setor</th>\n",
       "      <th>idade_empresa_anos</th>\n",
       "      <th>idade_emp_cat</th>\n",
       "      <th>...</th>\n",
       "      <th>media_meses_servicos</th>\n",
       "      <th>max_meses_servicos</th>\n",
       "      <th>min_meses_servicos</th>\n",
       "      <th>qt_funcionarios</th>\n",
       "      <th>qt_funcionarios_12meses</th>\n",
       "      <th>qt_funcionarios_24meses</th>\n",
       "      <th>tx_crescimento_12meses</th>\n",
       "      <th>tx_crescimento_24meses</th>\n",
       "      <th>tx_rotatividade</th>\n",
       "      <th>qt_filiais</th>\n",
       "    </tr>\n",
       "  </thead>\n",
       "  <tbody>\n",
       "    <tr>\n",
       "      <th>0</th>\n",
       "      <td>0</td>\n",
       "      <td>a6984c3ae395090e3bee8ad63c3758b110de096d5d8195...</td>\n",
       "      <td>True</td>\n",
       "      <td>SOCIEDADE EMPRESARIA LIMITADA</td>\n",
       "      <td>RN</td>\n",
       "      <td>ENTIDADES EMPRESARIAIS</td>\n",
       "      <td>INDUSTRIA DA CONSTRUCAO</td>\n",
       "      <td>CONSTRUÇÃO CIVIL</td>\n",
       "      <td>14.457534</td>\n",
       "      <td>10 a 15</td>\n",
       "      <td>...</td>\n",
       "      <td>43.75</td>\n",
       "      <td>93.25</td>\n",
       "      <td>19.171875</td>\n",
       "      <td>26.0</td>\n",
       "      <td>26.0</td>\n",
       "      <td>27.0</td>\n",
       "      <td>0.0</td>\n",
       "      <td>-3.703125</td>\n",
       "      <td>0.0</td>\n",
       "      <td>0</td>\n",
       "    </tr>\n",
       "    <tr>\n",
       "      <th>1</th>\n",
       "      <td>1</td>\n",
       "      <td>6178f41ade1365e44bc2c46654c2c8c0eaae27dcb476c4...</td>\n",
       "      <td>True</td>\n",
       "      <td>EMPRESARIO INDIVIDUAL</td>\n",
       "      <td>PI</td>\n",
       "      <td>OUTROS</td>\n",
       "      <td>SERVICOS DE ALOJAMENTO/ALIMENTACAO</td>\n",
       "      <td>SERVIÇO</td>\n",
       "      <td>1.463014</td>\n",
       "      <td>1 a 5</td>\n",
       "      <td>...</td>\n",
       "      <td>NaN</td>\n",
       "      <td>NaN</td>\n",
       "      <td>NaN</td>\n",
       "      <td>NaN</td>\n",
       "      <td>NaN</td>\n",
       "      <td>NaN</td>\n",
       "      <td>NaN</td>\n",
       "      <td>NaN</td>\n",
       "      <td>NaN</td>\n",
       "      <td>0</td>\n",
       "    </tr>\n",
       "    <tr>\n",
       "      <th>2</th>\n",
       "      <td>2</td>\n",
       "      <td>4a7e5069a397f12fdd7fd57111d6dc5d3ba558958efc02...</td>\n",
       "      <td>True</td>\n",
       "      <td>EMPRESARIO INDIVIDUAL</td>\n",
       "      <td>AM</td>\n",
       "      <td>OUTROS</td>\n",
       "      <td>TRANSPORTE, ARMAZENAGEM E CORREIO</td>\n",
       "      <td>SERVIÇO</td>\n",
       "      <td>7.093151</td>\n",
       "      <td>5 a 10</td>\n",
       "      <td>...</td>\n",
       "      <td>NaN</td>\n",
       "      <td>NaN</td>\n",
       "      <td>NaN</td>\n",
       "      <td>NaN</td>\n",
       "      <td>NaN</td>\n",
       "      <td>NaN</td>\n",
       "      <td>NaN</td>\n",
       "      <td>NaN</td>\n",
       "      <td>NaN</td>\n",
       "      <td>0</td>\n",
       "    </tr>\n",
       "    <tr>\n",
       "      <th>3</th>\n",
       "      <td>3</td>\n",
       "      <td>3348900fe63216a439d2e5238c79ddd46ede454df7b9d8...</td>\n",
       "      <td>True</td>\n",
       "      <td>EMPRESARIO INDIVIDUAL</td>\n",
       "      <td>AM</td>\n",
       "      <td>OUTROS</td>\n",
       "      <td>SERVICOS DIVERSOS</td>\n",
       "      <td>SERVIÇO</td>\n",
       "      <td>6.512329</td>\n",
       "      <td>5 a 10</td>\n",
       "      <td>...</td>\n",
       "      <td>NaN</td>\n",
       "      <td>NaN</td>\n",
       "      <td>NaN</td>\n",
       "      <td>NaN</td>\n",
       "      <td>NaN</td>\n",
       "      <td>NaN</td>\n",
       "      <td>NaN</td>\n",
       "      <td>NaN</td>\n",
       "      <td>NaN</td>\n",
       "      <td>0</td>\n",
       "    </tr>\n",
       "    <tr>\n",
       "      <th>4</th>\n",
       "      <td>4</td>\n",
       "      <td>1f9bcabc9d3173c1fe769899e4fac14b053037b953a1e4...</td>\n",
       "      <td>True</td>\n",
       "      <td>EMPRESARIO INDIVIDUAL</td>\n",
       "      <td>RN</td>\n",
       "      <td>OUTROS</td>\n",
       "      <td>SERVICOS PROFISSIONAIS, TECNICOS E CIENTIFICOS</td>\n",
       "      <td>SERVIÇO</td>\n",
       "      <td>3.200000</td>\n",
       "      <td>1 a 5</td>\n",
       "      <td>...</td>\n",
       "      <td>NaN</td>\n",
       "      <td>NaN</td>\n",
       "      <td>NaN</td>\n",
       "      <td>NaN</td>\n",
       "      <td>NaN</td>\n",
       "      <td>NaN</td>\n",
       "      <td>NaN</td>\n",
       "      <td>NaN</td>\n",
       "      <td>NaN</td>\n",
       "      <td>0</td>\n",
       "    </tr>\n",
       "  </tbody>\n",
       "</table>\n",
       "<p>5 rows × 182 columns</p>\n",
       "</div>"
      ],
      "text/plain": [
       "   Unnamed: 0                                                 id  fl_matriz  \\\n",
       "0           0  a6984c3ae395090e3bee8ad63c3758b110de096d5d8195...       True   \n",
       "1           1  6178f41ade1365e44bc2c46654c2c8c0eaae27dcb476c4...       True   \n",
       "2           2  4a7e5069a397f12fdd7fd57111d6dc5d3ba558958efc02...       True   \n",
       "3           3  3348900fe63216a439d2e5238c79ddd46ede454df7b9d8...       True   \n",
       "4           4  1f9bcabc9d3173c1fe769899e4fac14b053037b953a1e4...       True   \n",
       "\n",
       "            de_natureza_juridica sg_uf natureza_juridica_macro  \\\n",
       "0  SOCIEDADE EMPRESARIA LIMITADA    RN  ENTIDADES EMPRESARIAIS   \n",
       "1          EMPRESARIO INDIVIDUAL    PI                  OUTROS   \n",
       "2          EMPRESARIO INDIVIDUAL    AM                  OUTROS   \n",
       "3          EMPRESARIO INDIVIDUAL    AM                  OUTROS   \n",
       "4          EMPRESARIO INDIVIDUAL    RN                  OUTROS   \n",
       "\n",
       "                                          de_ramo             setor  \\\n",
       "0                         INDUSTRIA DA CONSTRUCAO  CONSTRUÇÃO CIVIL   \n",
       "1              SERVICOS DE ALOJAMENTO/ALIMENTACAO           SERVIÇO   \n",
       "2               TRANSPORTE, ARMAZENAGEM E CORREIO           SERVIÇO   \n",
       "3                               SERVICOS DIVERSOS           SERVIÇO   \n",
       "4  SERVICOS PROFISSIONAIS, TECNICOS E CIENTIFICOS           SERVIÇO   \n",
       "\n",
       "   idade_empresa_anos idade_emp_cat  ...  media_meses_servicos  \\\n",
       "0           14.457534       10 a 15  ...                 43.75   \n",
       "1            1.463014         1 a 5  ...                   NaN   \n",
       "2            7.093151        5 a 10  ...                   NaN   \n",
       "3            6.512329        5 a 10  ...                   NaN   \n",
       "4            3.200000         1 a 5  ...                   NaN   \n",
       "\n",
       "   max_meses_servicos  min_meses_servicos  qt_funcionarios  \\\n",
       "0               93.25           19.171875             26.0   \n",
       "1                 NaN                 NaN              NaN   \n",
       "2                 NaN                 NaN              NaN   \n",
       "3                 NaN                 NaN              NaN   \n",
       "4                 NaN                 NaN              NaN   \n",
       "\n",
       "   qt_funcionarios_12meses qt_funcionarios_24meses  tx_crescimento_12meses  \\\n",
       "0                     26.0                    27.0                     0.0   \n",
       "1                      NaN                     NaN                     NaN   \n",
       "2                      NaN                     NaN                     NaN   \n",
       "3                      NaN                     NaN                     NaN   \n",
       "4                      NaN                     NaN                     NaN   \n",
       "\n",
       "   tx_crescimento_24meses  tx_rotatividade qt_filiais  \n",
       "0               -3.703125              0.0          0  \n",
       "1                     NaN              NaN          0  \n",
       "2                     NaN              NaN          0  \n",
       "3                     NaN              NaN          0  \n",
       "4                     NaN              NaN          0  \n",
       "\n",
       "[5 rows x 182 columns]"
      ]
     },
     "execution_count": 8,
     "metadata": {},
     "output_type": "execute_result"
    }
   ],
   "source": [
    "df.head()"
   ]
  },
  {
   "cell_type": "markdown",
   "metadata": {},
   "source": [
    "##### DataFrames auxiliares"
   ]
  },
  {
   "cell_type": "code",
   "execution_count": 9,
   "metadata": {},
   "outputs": [],
   "source": [
    "df1 = pd.read_csv('estaticos_portfolio1.csv', usecols=['id'])\n",
    "df2 = pd.read_csv('estaticos_portfolio2.csv', usecols=['id'])\n",
    "df3 = pd.read_csv('estaticos_portfolio3.csv', usecols=['id'])"
   ]
  },
  {
   "cell_type": "code",
   "execution_count": 10,
   "metadata": {},
   "outputs": [
    {
     "data": {
      "text/html": [
       "<div>\n",
       "<style scoped>\n",
       "    .dataframe tbody tr th:only-of-type {\n",
       "        vertical-align: middle;\n",
       "    }\n",
       "\n",
       "    .dataframe tbody tr th {\n",
       "        vertical-align: top;\n",
       "    }\n",
       "\n",
       "    .dataframe thead th {\n",
       "        text-align: right;\n",
       "    }\n",
       "</style>\n",
       "<table border=\"1\" class=\"dataframe\">\n",
       "  <thead>\n",
       "    <tr style=\"text-align: right;\">\n",
       "      <th></th>\n",
       "      <th>id</th>\n",
       "    </tr>\n",
       "  </thead>\n",
       "  <tbody>\n",
       "    <tr>\n",
       "      <th>0</th>\n",
       "      <td>dabe79bec87c88ae04e869bf6bd321ee5e1893cecf6625...</td>\n",
       "    </tr>\n",
       "  </tbody>\n",
       "</table>\n",
       "</div>"
      ],
      "text/plain": [
       "                                                  id\n",
       "0  dabe79bec87c88ae04e869bf6bd321ee5e1893cecf6625..."
      ]
     },
     "execution_count": 10,
     "metadata": {},
     "output_type": "execute_result"
    }
   ],
   "source": [
    "df1.head(1)"
   ]
  },
  {
   "cell_type": "code",
   "execution_count": 11,
   "metadata": {},
   "outputs": [
    {
     "data": {
      "text/html": [
       "<div>\n",
       "<style scoped>\n",
       "    .dataframe tbody tr th:only-of-type {\n",
       "        vertical-align: middle;\n",
       "    }\n",
       "\n",
       "    .dataframe tbody tr th {\n",
       "        vertical-align: top;\n",
       "    }\n",
       "\n",
       "    .dataframe thead th {\n",
       "        text-align: right;\n",
       "    }\n",
       "</style>\n",
       "<table border=\"1\" class=\"dataframe\">\n",
       "  <thead>\n",
       "    <tr style=\"text-align: right;\">\n",
       "      <th></th>\n",
       "      <th>id</th>\n",
       "    </tr>\n",
       "  </thead>\n",
       "  <tbody>\n",
       "    <tr>\n",
       "      <th>0</th>\n",
       "      <td>09e95c1a84049001d086470a8f320a19b076f955a89122...</td>\n",
       "    </tr>\n",
       "  </tbody>\n",
       "</table>\n",
       "</div>"
      ],
      "text/plain": [
       "                                                  id\n",
       "0  09e95c1a84049001d086470a8f320a19b076f955a89122..."
      ]
     },
     "execution_count": 11,
     "metadata": {},
     "output_type": "execute_result"
    }
   ],
   "source": [
    "df2.head(1)"
   ]
  },
  {
   "cell_type": "code",
   "execution_count": 12,
   "metadata": {},
   "outputs": [
    {
     "data": {
      "text/html": [
       "<div>\n",
       "<style scoped>\n",
       "    .dataframe tbody tr th:only-of-type {\n",
       "        vertical-align: middle;\n",
       "    }\n",
       "\n",
       "    .dataframe tbody tr th {\n",
       "        vertical-align: top;\n",
       "    }\n",
       "\n",
       "    .dataframe thead th {\n",
       "        text-align: right;\n",
       "    }\n",
       "</style>\n",
       "<table border=\"1\" class=\"dataframe\">\n",
       "  <thead>\n",
       "    <tr style=\"text-align: right;\">\n",
       "      <th></th>\n",
       "      <th>id</th>\n",
       "    </tr>\n",
       "  </thead>\n",
       "  <tbody>\n",
       "    <tr>\n",
       "      <th>0</th>\n",
       "      <td>bb61c09449a1c1f8b78955d8b7a7f73599e78358993fe2...</td>\n",
       "    </tr>\n",
       "  </tbody>\n",
       "</table>\n",
       "</div>"
      ],
      "text/plain": [
       "                                                  id\n",
       "0  bb61c09449a1c1f8b78955d8b7a7f73599e78358993fe2..."
      ]
     },
     "execution_count": 12,
     "metadata": {},
     "output_type": "execute_result"
    }
   ],
   "source": [
    "df3.head(1)"
   ]
  },
  {
   "cell_type": "code",
   "execution_count": 13,
   "metadata": {},
   "outputs": [
    {
     "data": {
      "text/plain": [
       "Index(['Unnamed: 0', 'id', 'fl_matriz', 'de_natureza_juridica', 'sg_uf',\n",
       "       'natureza_juridica_macro', 'de_ramo', 'setor', 'idade_empresa_anos',\n",
       "       'idade_emp_cat',\n",
       "       ...\n",
       "       'media_meses_servicos', 'max_meses_servicos', 'min_meses_servicos',\n",
       "       'qt_funcionarios', 'qt_funcionarios_12meses', 'qt_funcionarios_24meses',\n",
       "       'tx_crescimento_12meses', 'tx_crescimento_24meses', 'tx_rotatividade',\n",
       "       'qt_filiais'],\n",
       "      dtype='object', length=182)"
      ]
     },
     "execution_count": 13,
     "metadata": {},
     "output_type": "execute_result"
    }
   ],
   "source": [
    "df.columns"
   ]
  },
  {
   "cell_type": "markdown",
   "metadata": {},
   "source": [
    "### Analise de colunas nulas"
   ]
  },
  {
   "cell_type": "markdown",
   "metadata": {},
   "source": [
    "##### As colunas com todos os dados nulos não tem nenhuma relevância para a análise"
   ]
  },
  {
   "cell_type": "code",
   "execution_count": 14,
   "metadata": {},
   "outputs": [
    {
     "name": "stdout",
     "output_type": "stream",
     "text": [
      "Existem 5 São elas ['qt_alteracao_socio_total', 'qt_alteracao_socio_90d', 'qt_alteracao_socio_180d', 'qt_alteracao_socio_365d', 'grau_instrucao_macro_desconhecido']\n"
     ]
    }
   ],
   "source": [
    "colunas_nulas = df.isna().sum()\n",
    "colunas_nulas = colunas_nulas[colunas_nulas.isin([df.shape[0]])]\n",
    "lista_colunas_nulas = list(colunas_nulas.index)\n",
    "qtd_lista_colunas_nulas = len(list(colunas_nulas.index))\n",
    "print('Existem', qtd_lista_colunas_nulas, 'São elas', lista_colunas_nulas)"
   ]
  },
  {
   "cell_type": "code",
   "execution_count": 15,
   "metadata": {},
   "outputs": [
    {
     "name": "stdout",
     "output_type": "stream",
     "text": [
      "O novo shape é (462298, 177)\n"
     ]
    }
   ],
   "source": [
    "# Eliminando as colunas com todas as observações nulas\n",
    "df.drop(columns=lista_colunas_nulas, inplace=True)\n",
    "print('O novo shape é', df.shape)"
   ]
  },
  {
   "cell_type": "markdown",
   "metadata": {},
   "source": [
    "##### As colunas com mais de 50% dos dados nulos não tem muita relevância para a análise, para chegar no número de 50% alem da quantidade de nulos foi levado em consideração a relevância da coluna para a solução."
   ]
  },
  {
   "cell_type": "code",
   "execution_count": 16,
   "metadata": {},
   "outputs": [
    {
     "name": "stdout",
     "output_type": "stream",
     "text": [
      "Existem 126 São elas ['vl_total_tancagem', 'vl_total_veiculos_antt', 'vl_total_veiculos_leves', 'vl_total_veiculos_pesados', 'qt_art', 'vl_total_tancagem_grupo', 'vl_total_veiculos_antt_grupo', 'vl_potenc_cons_oleo_gas', 'de_indicador_telefone', 'vl_frota', 'qt_socios_st_suspensa', 'qt_socios_masculino', 'qt_socios_feminino', 'qt_socios_pep', 'qt_socios_pj_ativos', 'qt_socios_pj_nulos', 'qt_socios_pj_baixados', 'qt_socios_pj_suspensos', 'qt_socios_pj_inaptos', 'vl_idade_media_socios_pj', 'vl_idade_maxima_socios_pj', 'vl_idade_minima_socios_pj', 'qt_coligados', 'qt_socios_coligados', 'qt_coligados_matriz', 'qt_coligados_ativo', 'qt_coligados_baixada', 'qt_coligados_inapta', 'qt_coligados_suspensa', 'qt_coligados_nula', 'idade_media_coligadas', 'idade_maxima_coligadas', 'idade_minima_coligadas', 'coligada_mais_nova_ativa', 'coligada_mais_antiga_ativa', 'idade_media_coligadas_ativas', 'coligada_mais_nova_baixada', 'coligada_mais_antiga_baixada', 'idade_media_coligadas_baixadas', 'qt_coligados_sa', 'qt_coligados_me', 'qt_coligados_mei', 'qt_coligados_ltda', 'qt_coligados_epp', 'qt_coligados_norte', 'qt_coligados_sul', 'qt_coligados_nordeste', 'qt_coligados_centro', 'qt_coligados_sudeste', 'qt_coligados_exterior', 'qt_ufs_coligados', 'qt_regioes_coligados', 'qt_ramos_coligados', 'qt_coligados_industria', 'qt_coligados_agropecuaria', 'qt_coligados_comercio', 'qt_coligados_serviço', 'qt_coligados_ccivil', 'qt_funcionarios_coligados', 'qt_funcionarios_coligados_gp', 'media_funcionarios_coligados_gp', 'max_funcionarios_coligados_gp', 'min_funcionarios_coligados_gp', 'vl_folha_coligados', 'media_vl_folha_coligados', 'max_vl_folha_coligados', 'min_vl_folha_coligados', 'vl_folha_coligados_gp', 'media_vl_folha_coligados_gp', 'max_vl_folha_coligados_gp', 'min_vl_folha_coligados_gp', 'faturamento_est_coligados', 'media_faturamento_est_coligados', 'max_faturamento_est_coligados', 'min_faturamento_est_coligados', 'faturamento_est_coligados_gp', 'media_faturamento_est_coligados_gp', 'max_faturamento_est_coligados_gp', 'min_faturamento_est_coligados_gp', 'total_filiais_coligados', 'media_filiais_coligados', 'max_filiais_coligados', 'min_filiais_coligados', 'qt_coligados_atividade_alto', 'qt_coligados_atividade_medio', 'qt_coligados_atividade_baixo', 'qt_coligados_atividade_mt_baixo', 'qt_coligados_atividade_inativo', 'qt_coligadas', 'sum_faturamento_estimado_coligadas', 'qt_ex_funcionarios', 'qt_funcionarios_grupo', 'percent_func_genero_masc', 'percent_func_genero_fem', 'idade_ate_18', 'idade_de_19_a_23', 'idade_de_24_a_28', 'idade_de_29_a_33', 'idade_de_34_a_38', 'idade_de_39_a_43', 'idade_de_44_a_48', 'idade_de_49_a_53', 'idade_de_54_a_58', 'idade_acima_de_58', 'grau_instrucao_macro_analfabeto', 'grau_instrucao_macro_escolaridade_fundamental', 'grau_instrucao_macro_escolaridade_media', 'grau_instrucao_macro_escolaridade_superior', 'total', 'meses_ultima_contratacaco', 'qt_admitidos_12meses', 'qt_desligados_12meses', 'qt_desligados', 'qt_admitidos', 'media_meses_servicos_all', 'max_meses_servicos_all', 'min_meses_servicos_all', 'media_meses_servicos', 'max_meses_servicos', 'min_meses_servicos', 'qt_funcionarios', 'qt_funcionarios_12meses', 'qt_funcionarios_24meses', 'tx_crescimento_12meses', 'tx_crescimento_24meses', 'tx_rotatividade']\n"
     ]
    }
   ],
   "source": [
    "colunas_nulas_perc = (df.isna().sum()/df.shape[0]*100) > 50.0 \n",
    "colunas_nulas_perc = colunas_nulas_perc[colunas_nulas_perc.isin([True])]\n",
    "len(list(colunas_nulas_perc.index))\n",
    "lista_colunas_nulas_perc = list(colunas_nulas_perc.index)\n",
    "qtd_lista_colunas_nulas_perc = len(list(colunas_nulas_perc.index))\n",
    "print('Existem', qtd_lista_colunas_nulas_perc, 'São elas', lista_colunas_nulas_perc)"
   ]
  },
  {
   "cell_type": "code",
   "execution_count": 17,
   "metadata": {},
   "outputs": [
    {
     "name": "stdout",
     "output_type": "stream",
     "text": [
      "O novo shape é (462298, 51)\n"
     ]
    }
   ],
   "source": [
    "# Eliminando as colunas com observações nulas em mais de 50%\n",
    "df.drop(columns=lista_colunas_nulas_perc, inplace=True)\n",
    "print('O novo shape é', df.shape)"
   ]
  },
  {
   "cell_type": "markdown",
   "metadata": {},
   "source": [
    "##### Verificar as colunas nulas restantes, e analisar a relevância"
   ]
  },
  {
   "cell_type": "code",
   "execution_count": 18,
   "metadata": {},
   "outputs": [
    {
     "data": {
      "text/plain": [
       "qt_socios_st_regular                     0.335102\n",
       "idade_minima_socios                      0.327931\n",
       "idade_maxima_socios                      0.327931\n",
       "idade_media_socios                       0.327931\n",
       "empsetorcensitariofaixarendapopulacao    0.311118\n",
       "qt_socios_pj                             0.248954\n",
       "qt_socios_pf                             0.248954\n",
       "qt_socios                                0.248954\n",
       "fl_optante_simei                         0.178917\n",
       "fl_optante_simples                       0.178917\n",
       "nm_micro_regiao                          0.126970\n",
       "nm_meso_regiao                           0.126970\n",
       "nu_meses_rescencia                       0.097937\n",
       "de_faixa_faturamento_estimado            0.059514\n",
       "vl_faturamento_estimado_grupo_aux        0.059514\n",
       "de_faixa_faturamento_estimado_grupo      0.059514\n",
       "vl_faturamento_estimado_aux              0.059514\n",
       "de_saude_rescencia                       0.032124\n",
       "de_saude_tributaria                      0.032124\n",
       "de_nivel_atividade                       0.024158\n",
       "sg_uf_matriz                             0.004194\n",
       "fl_veiculo                               0.004168\n",
       "setor                                    0.004168\n",
       "nm_divisao                               0.004168\n",
       "fl_spa                                   0.004168\n",
       "fl_antt                                  0.004168\n",
       "nm_segmento                              0.004168\n",
       "fl_passivel_iss                          0.004168\n",
       "vl_total_veiculos_pesados_grupo          0.004168\n",
       "vl_total_veiculos_leves_grupo            0.004168\n",
       "fl_simples_irregular                     0.004168\n",
       "dt_situacao                              0.000013\n",
       "idade_emp_cat                            0.000000\n",
       "id                                       0.000000\n",
       "fl_matriz                                0.000000\n",
       "de_natureza_juridica                     0.000000\n",
       "sg_uf                                    0.000000\n",
       "natureza_juridica_macro                  0.000000\n",
       "de_ramo                                  0.000000\n",
       "idade_empresa_anos                       0.000000\n",
       "qt_filiais                               0.000000\n",
       "fl_me                                    0.000000\n",
       "fl_sa                                    0.000000\n",
       "fl_epp                                   0.000000\n",
       "fl_mei                                   0.000000\n",
       "fl_ltda                                  0.000000\n",
       "fl_st_especial                           0.000000\n",
       "fl_email                                 0.000000\n",
       "fl_telefone                              0.000000\n",
       "fl_rm                                    0.000000\n",
       "Unnamed: 0                               0.000000\n",
       "dtype: float64"
      ]
     },
     "execution_count": 18,
     "metadata": {},
     "output_type": "execute_result"
    }
   ],
   "source": [
    "(df.isna().sum()/df.shape[0]).sort_values(ascending=False)"
   ]
  },
  {
   "cell_type": "markdown",
   "metadata": {},
   "source": [
    "##### Analise das colunas restantes, para verificar a possibilidade de eliminar mais alguma coluna irrelevante para a solução."
   ]
  },
  {
   "cell_type": "code",
   "execution_count": 19,
   "metadata": {},
   "outputs": [
    {
     "name": "stdout",
     "output_type": "stream",
     "text": [
      "Colunas irrelevantes para a solução 9\n"
     ]
    }
   ],
   "source": [
    "colunas_drop = ['Unnamed: 0','fl_email','fl_telefone','qt_socios_st_regular','qt_socios_pj',\n",
    "                'qt_socios_pf','fl_simples_irregular','fl_optante_simei','fl_optante_simples']\n",
    "print('Colunas irrelevantes para a solução', len(colunas_drop))"
   ]
  },
  {
   "cell_type": "markdown",
   "metadata": {},
   "source": [
    "**Unnamed**: 0: numeração das observações\n",
    "\n",
    "**fl_email**: boolean value, true if the cnpj has an email registered at the IRF database. \n",
    "\n",
    "**fl_telefone**: boolean value, true if the company has a phone number registered in IRS database.\n",
    "\n",
    "**qt_socios_st_regular**: integer value, quantity of partners with regular situation under IRS - Receita Federal\n",
    "\n",
    "**qt_socios_pj**:  integer value, quantity of partners/shareholders of the cnpj that are companies\n",
    "\n",
    "**qt_socios_pf**: integer value, quantity of partners/shareholders of the cnpj that are persons\n",
    "\n",
    "**fl_simples_irregular**: boolean, true if the company is taxed under the SIMPLES regime and has a impeditive CNAE (economic activities that are not allowed to be taxed according to the simples regime) revenue above the limit of the regime.\n",
    "\n",
    "**fl_optante_simei**: boolean, true if the company is taxed as an MEI - Individual Micro Entrepreneur (Micro Empreendedor Individual)\n",
    "\n",
    "**fl_optante_simples**: boolean, true if the company is taxed according to SIMPLES regime"
   ]
  },
  {
   "cell_type": "code",
   "execution_count": 20,
   "metadata": {},
   "outputs": [
    {
     "name": "stdout",
     "output_type": "stream",
     "text": [
      "O novo shape é (462298, 42)\n"
     ]
    }
   ],
   "source": [
    "# Eliminando colunas julgadas irrelevantes\n",
    "df.drop(columns=colunas_drop, inplace=True)\n",
    "print('O novo shape é', df.shape)"
   ]
  },
  {
   "cell_type": "code",
   "execution_count": 21,
   "metadata": {},
   "outputs": [
    {
     "name": "stdout",
     "output_type": "stream",
     "text": [
      "<class 'pandas.core.frame.DataFrame'>\n",
      "RangeIndex: 462298 entries, 0 to 462297\n",
      "Data columns (total 42 columns):\n",
      " #   Column                                 Non-Null Count   Dtype  \n",
      "---  ------                                 --------------   -----  \n",
      " 0   id                                     462298 non-null  object \n",
      " 1   fl_matriz                              462298 non-null  bool   \n",
      " 2   de_natureza_juridica                   462298 non-null  object \n",
      " 3   sg_uf                                  462298 non-null  object \n",
      " 4   natureza_juridica_macro                462298 non-null  object \n",
      " 5   de_ramo                                462298 non-null  object \n",
      " 6   setor                                  460371 non-null  object \n",
      " 7   idade_empresa_anos                     462298 non-null  float64\n",
      " 8   idade_emp_cat                          462298 non-null  object \n",
      " 9   fl_me                                  462298 non-null  bool   \n",
      " 10  fl_sa                                  462298 non-null  bool   \n",
      " 11  fl_epp                                 462298 non-null  bool   \n",
      " 12  fl_mei                                 462298 non-null  bool   \n",
      " 13  fl_ltda                                462298 non-null  bool   \n",
      " 14  dt_situacao                            462292 non-null  object \n",
      " 15  fl_st_especial                         462298 non-null  bool   \n",
      " 16  fl_rm                                  462298 non-null  object \n",
      " 17  nm_divisao                             460371 non-null  object \n",
      " 18  nm_segmento                            460371 non-null  object \n",
      " 19  fl_spa                                 460371 non-null  object \n",
      " 20  fl_antt                                460371 non-null  object \n",
      " 21  fl_veiculo                             460371 non-null  object \n",
      " 22  vl_total_veiculos_pesados_grupo        460371 non-null  float64\n",
      " 23  vl_total_veiculos_leves_grupo          460371 non-null  float64\n",
      " 24  sg_uf_matriz                           460359 non-null  object \n",
      " 25  de_saude_tributaria                    447447 non-null  object \n",
      " 26  de_saude_rescencia                     447447 non-null  object \n",
      " 27  nu_meses_rescencia                     417022 non-null  float64\n",
      " 28  de_nivel_atividade                     451130 non-null  object \n",
      " 29  empsetorcensitariofaixarendapopulacao  318469 non-null  float64\n",
      " 30  nm_meso_regiao                         403600 non-null  object \n",
      " 31  nm_micro_regiao                        403600 non-null  object \n",
      " 32  fl_passivel_iss                        460371 non-null  object \n",
      " 33  qt_socios                              347207 non-null  float64\n",
      " 34  idade_media_socios                     310696 non-null  float64\n",
      " 35  idade_maxima_socios                    310696 non-null  float64\n",
      " 36  idade_minima_socios                    310696 non-null  float64\n",
      " 37  de_faixa_faturamento_estimado          434785 non-null  object \n",
      " 38  de_faixa_faturamento_estimado_grupo    434785 non-null  object \n",
      " 39  vl_faturamento_estimado_aux            434785 non-null  float64\n",
      " 40  vl_faturamento_estimado_grupo_aux      434785 non-null  float64\n",
      " 41  qt_filiais                             462298 non-null  int16  \n",
      "dtypes: bool(7), float64(11), int16(1), object(23)\n",
      "memory usage: 83.3+ MB\n"
     ]
    }
   ],
   "source": [
    "df.info()"
   ]
  },
  {
   "cell_type": "markdown",
   "metadata": {},
   "source": [
    "##### Criando um novo dataset, substituindo a media nas colunas numéricas e dropando os dados nulos da demais colunas para análise"
   ]
  },
  {
   "cell_type": "code",
   "execution_count": 22,
   "metadata": {},
   "outputs": [],
   "source": [
    "#df_nao_nulos = df.fillna(df.mean())"
   ]
  },
  {
   "cell_type": "code",
   "execution_count": 23,
   "metadata": {},
   "outputs": [],
   "source": [
    "#df_nao_nulos = df.dropna()\n",
    "#print('O novo shape é', df_nao_nulos.shape)"
   ]
  },
  {
   "cell_type": "code",
   "execution_count": 24,
   "metadata": {},
   "outputs": [
    {
     "name": "stdout",
     "output_type": "stream",
     "text": [
      "O total de colunas selecionadas para a solução 18\n",
      "O total de colunas selecionadas para treino da solução 9\n"
     ]
    }
   ],
   "source": [
    "#Dados para teste de validação do cluster\n",
    "base = ['id','sg_uf','de_ramo','setor','nm_divisao','nm_segmento','de_nivel_atividade',\n",
    "        'nm_meso_regiao','nm_micro_regiao','de_faixa_faturamento_estimado','idade_empresa_anos',\n",
    "        'de_natureza_juridica','fl_me','fl_sa','fl_epp','fl_mei','fl_ltda','qt_filiais']\n",
    "train = ['cod_de_natureza_juridica','cod_sg_uf','cod_de_ramo','cod_setor','cod_nm_divisao','cod_nm_segmento',\n",
    "         'cod_de_nivel_atividade','cod_nm_meso_regiao','cod_de_faixa_faturamento_estimado']\n",
    "print('O total de colunas selecionadas para a solução', len(base))\n",
    "print('O total de colunas selecionadas para treino da solução', len(train))\n",
    "\n",
    "df_nao_nulos = df[base]\n",
    "# Retirando as observações com nulos\n",
    "#df_nao_nulos.dropna(inplace=True)\n",
    "df_nao_nulos.fillna('SEM INFORMAÇÃO', inplace=True)"
   ]
  },
  {
   "cell_type": "markdown",
   "metadata": {},
   "source": [
    "**Feature engineering**\n",
    " \n",
    "Analise das colunas nulas com todo os dados faltantes, 5 colunas foram eliminadas.\n",
    "\n",
    "Analise das colunas nulas com mais de 50% dos dados faltantes, 126 colunas foram eliminadas.\n",
    "\n",
    "As colunas restantes foi feita uma analise manual, para ver a relevância dos dados para a solução, 9 colunas foram eliminadas.\n",
    "\n",
    "Com as colunas restantes foram escolhidas manualmente 18, os dados nulos foram tratados inserindo 'SEM INFORMAÇÃO', já que todos eram categóricos, dessa forma nenhuma observação ficou de fora da analise.\n",
    "\n",
    "Para treinamento do modelo forma usadas 9 dessas featuras julgadas mais importantes para a solução."
   ]
  },
  {
   "cell_type": "code",
   "execution_count": 25,
   "metadata": {},
   "outputs": [
    {
     "name": "stdout",
     "output_type": "stream",
     "text": [
      "Tamanho Dataset original (462298, 42) Tamanho Dataset base (462298, 18)\n"
     ]
    }
   ],
   "source": [
    "print('Tamanho Dataset original', df.shape, 'Tamanho Dataset base', df_nao_nulos.shape)"
   ]
  },
  {
   "cell_type": "code",
   "execution_count": 26,
   "metadata": {},
   "outputs": [],
   "source": [
    "# Exportando csv apenas colunas tratadas, particionado para carregar no GitHub e desenvolver o app no Heroku\n",
    "df[base].loc[:115000, :].to_csv('data/market1.csv', index=False)\n",
    "df[base].loc[115001:230000, :].to_csv('data/market2.csv', index=False)\n",
    "df[base].loc[230001:345000, :].to_csv('data/market3.csv', index=False)\n",
    "df[base].loc[345001:, :].to_csv('data/market4.csv', index=False)\n",
    "df1.to_csv('data/port1.csv', index=False)\n",
    "df2.to_csv('data/port2.csv', index=False)\n",
    "df3.to_csv('data/port3.csv', index=False)"
   ]
  },
  {
   "cell_type": "markdown",
   "metadata": {},
   "source": [
    "### Exploração de Dados"
   ]
  },
  {
   "cell_type": "markdown",
   "metadata": {},
   "source": [
    "##### Ajustando todos os dados para numéricos"
   ]
  },
  {
   "cell_type": "code",
   "execution_count": 27,
   "metadata": {},
   "outputs": [],
   "source": [
    "# Transformando as colunas com o LabelEncoder\n",
    "colunas_transform = list(df_nao_nulos.select_dtypes(include=['object','bool']).columns)\n",
    "colunas_transform.remove('id')\n",
    "\n",
    "encoder = LabelEncoder()\n",
    "for label in colunas_transform:\n",
    "    label_coluna = 'cod_' + label\n",
    "    df_nao_nulos[label_coluna] = encoder.fit_transform(df_nao_nulos[label])"
   ]
  },
  {
   "cell_type": "code",
   "execution_count": 28,
   "metadata": {},
   "outputs": [
    {
     "name": "stdout",
     "output_type": "stream",
     "text": [
      "<class 'pandas.core.frame.DataFrame'>\n",
      "RangeIndex: 462298 entries, 0 to 462297\n",
      "Data columns (total 33 columns):\n",
      " #   Column                             Non-Null Count   Dtype  \n",
      "---  ------                             --------------   -----  \n",
      " 0   id                                 462298 non-null  object \n",
      " 1   sg_uf                              462298 non-null  object \n",
      " 2   de_ramo                            462298 non-null  object \n",
      " 3   setor                              462298 non-null  object \n",
      " 4   nm_divisao                         462298 non-null  object \n",
      " 5   nm_segmento                        462298 non-null  object \n",
      " 6   de_nivel_atividade                 462298 non-null  object \n",
      " 7   nm_meso_regiao                     462298 non-null  object \n",
      " 8   nm_micro_regiao                    462298 non-null  object \n",
      " 9   de_faixa_faturamento_estimado      462298 non-null  object \n",
      " 10  idade_empresa_anos                 462298 non-null  float64\n",
      " 11  de_natureza_juridica               462298 non-null  object \n",
      " 12  fl_me                              462298 non-null  bool   \n",
      " 13  fl_sa                              462298 non-null  bool   \n",
      " 14  fl_epp                             462298 non-null  bool   \n",
      " 15  fl_mei                             462298 non-null  bool   \n",
      " 16  fl_ltda                            462298 non-null  bool   \n",
      " 17  qt_filiais                         462298 non-null  int16  \n",
      " 18  cod_sg_uf                          462298 non-null  int32  \n",
      " 19  cod_de_ramo                        462298 non-null  int32  \n",
      " 20  cod_setor                          462298 non-null  int32  \n",
      " 21  cod_nm_divisao                     462298 non-null  int32  \n",
      " 22  cod_nm_segmento                    462298 non-null  int32  \n",
      " 23  cod_de_nivel_atividade             462298 non-null  int32  \n",
      " 24  cod_nm_meso_regiao                 462298 non-null  int32  \n",
      " 25  cod_nm_micro_regiao                462298 non-null  int32  \n",
      " 26  cod_de_faixa_faturamento_estimado  462298 non-null  int32  \n",
      " 27  cod_de_natureza_juridica           462298 non-null  int32  \n",
      " 28  cod_fl_me                          462298 non-null  int32  \n",
      " 29  cod_fl_sa                          462298 non-null  int32  \n",
      " 30  cod_fl_epp                         462298 non-null  int32  \n",
      " 31  cod_fl_mei                         462298 non-null  int32  \n",
      " 32  cod_fl_ltda                        462298 non-null  int32  \n",
      "dtypes: bool(5), float64(1), int16(1), int32(15), object(11)\n",
      "memory usage: 52.5+ MB\n"
     ]
    }
   ],
   "source": [
    "df_nao_nulos.info()"
   ]
  },
  {
   "cell_type": "code",
   "execution_count": 29,
   "metadata": {},
   "outputs": [
    {
     "data": {
      "text/html": [
       "<div>\n",
       "<style scoped>\n",
       "    .dataframe tbody tr th:only-of-type {\n",
       "        vertical-align: middle;\n",
       "    }\n",
       "\n",
       "    .dataframe tbody tr th {\n",
       "        vertical-align: top;\n",
       "    }\n",
       "\n",
       "    .dataframe thead th {\n",
       "        text-align: right;\n",
       "    }\n",
       "</style>\n",
       "<table border=\"1\" class=\"dataframe\">\n",
       "  <thead>\n",
       "    <tr style=\"text-align: right;\">\n",
       "      <th></th>\n",
       "      <th>idade_empresa_anos</th>\n",
       "      <th>qt_filiais</th>\n",
       "      <th>cod_sg_uf</th>\n",
       "      <th>cod_de_ramo</th>\n",
       "      <th>cod_setor</th>\n",
       "      <th>cod_nm_divisao</th>\n",
       "      <th>cod_nm_segmento</th>\n",
       "      <th>cod_de_nivel_atividade</th>\n",
       "      <th>cod_nm_meso_regiao</th>\n",
       "      <th>cod_nm_micro_regiao</th>\n",
       "      <th>cod_de_faixa_faturamento_estimado</th>\n",
       "      <th>cod_de_natureza_juridica</th>\n",
       "      <th>cod_fl_me</th>\n",
       "      <th>cod_fl_sa</th>\n",
       "      <th>cod_fl_epp</th>\n",
       "      <th>cod_fl_mei</th>\n",
       "      <th>cod_fl_ltda</th>\n",
       "    </tr>\n",
       "  </thead>\n",
       "  <tbody>\n",
       "    <tr>\n",
       "      <th>count</th>\n",
       "      <td>462298.000000</td>\n",
       "      <td>462298.000000</td>\n",
       "      <td>462298.000000</td>\n",
       "      <td>462298.000000</td>\n",
       "      <td>462298.000000</td>\n",
       "      <td>462298.000000</td>\n",
       "      <td>462298.000000</td>\n",
       "      <td>462298.000000</td>\n",
       "      <td>462298.000000</td>\n",
       "      <td>462298.000000</td>\n",
       "      <td>462298.000000</td>\n",
       "      <td>462298.000000</td>\n",
       "      <td>462298.000000</td>\n",
       "      <td>462298.000000</td>\n",
       "      <td>462298.0</td>\n",
       "      <td>462298.000000</td>\n",
       "      <td>462298.000000</td>\n",
       "    </tr>\n",
       "    <tr>\n",
       "      <th>mean</th>\n",
       "      <td>9.948677</td>\n",
       "      <td>28.737044</td>\n",
       "      <td>2.693442</td>\n",
       "      <td>12.867036</td>\n",
       "      <td>2.834875</td>\n",
       "      <td>35.190561</td>\n",
       "      <td>10.320205</td>\n",
       "      <td>1.235606</td>\n",
       "      <td>7.694688</td>\n",
       "      <td>40.247055</td>\n",
       "      <td>7.682363</td>\n",
       "      <td>25.368922</td>\n",
       "      <td>0.002628</td>\n",
       "      <td>0.018239</td>\n",
       "      <td>0.0</td>\n",
       "      <td>0.326413</td>\n",
       "      <td>0.002687</td>\n",
       "    </tr>\n",
       "    <tr>\n",
       "      <th>std</th>\n",
       "      <td>9.615664</td>\n",
       "      <td>468.626094</td>\n",
       "      <td>1.412396</td>\n",
       "      <td>9.777025</td>\n",
       "      <td>1.887715</td>\n",
       "      <td>22.762827</td>\n",
       "      <td>4.476378</td>\n",
       "      <td>1.002345</td>\n",
       "      <td>4.706049</td>\n",
       "      <td>21.892984</td>\n",
       "      <td>3.832492</td>\n",
       "      <td>18.805287</td>\n",
       "      <td>0.051198</td>\n",
       "      <td>0.133816</td>\n",
       "      <td>0.0</td>\n",
       "      <td>0.468901</td>\n",
       "      <td>0.051763</td>\n",
       "    </tr>\n",
       "    <tr>\n",
       "      <th>min</th>\n",
       "      <td>0.016438</td>\n",
       "      <td>0.000000</td>\n",
       "      <td>0.000000</td>\n",
       "      <td>0.000000</td>\n",
       "      <td>0.000000</td>\n",
       "      <td>0.000000</td>\n",
       "      <td>0.000000</td>\n",
       "      <td>0.000000</td>\n",
       "      <td>0.000000</td>\n",
       "      <td>0.000000</td>\n",
       "      <td>0.000000</td>\n",
       "      <td>0.000000</td>\n",
       "      <td>0.000000</td>\n",
       "      <td>0.000000</td>\n",
       "      <td>0.0</td>\n",
       "      <td>0.000000</td>\n",
       "      <td>0.000000</td>\n",
       "    </tr>\n",
       "    <tr>\n",
       "      <th>25%</th>\n",
       "      <td>2.756164</td>\n",
       "      <td>0.000000</td>\n",
       "      <td>2.000000</td>\n",
       "      <td>5.000000</td>\n",
       "      <td>1.000000</td>\n",
       "      <td>28.000000</td>\n",
       "      <td>9.000000</td>\n",
       "      <td>0.000000</td>\n",
       "      <td>4.000000</td>\n",
       "      <td>27.000000</td>\n",
       "      <td>7.000000</td>\n",
       "      <td>17.000000</td>\n",
       "      <td>0.000000</td>\n",
       "      <td>0.000000</td>\n",
       "      <td>0.0</td>\n",
       "      <td>0.000000</td>\n",
       "      <td>0.000000</td>\n",
       "    </tr>\n",
       "    <tr>\n",
       "      <th>50%</th>\n",
       "      <td>6.704110</td>\n",
       "      <td>0.000000</td>\n",
       "      <td>3.000000</td>\n",
       "      <td>5.000000</td>\n",
       "      <td>2.000000</td>\n",
       "      <td>30.000000</td>\n",
       "      <td>9.000000</td>\n",
       "      <td>2.000000</td>\n",
       "      <td>8.000000</td>\n",
       "      <td>43.000000</td>\n",
       "      <td>10.000000</td>\n",
       "      <td>17.000000</td>\n",
       "      <td>0.000000</td>\n",
       "      <td>0.000000</td>\n",
       "      <td>0.0</td>\n",
       "      <td>0.000000</td>\n",
       "      <td>0.000000</td>\n",
       "    </tr>\n",
       "    <tr>\n",
       "      <th>75%</th>\n",
       "      <td>14.465753</td>\n",
       "      <td>0.000000</td>\n",
       "      <td>4.000000</td>\n",
       "      <td>22.000000</td>\n",
       "      <td>5.000000</td>\n",
       "      <td>36.000000</td>\n",
       "      <td>13.000000</td>\n",
       "      <td>2.000000</td>\n",
       "      <td>12.000000</td>\n",
       "      <td>60.000000</td>\n",
       "      <td>10.000000</td>\n",
       "      <td>17.000000</td>\n",
       "      <td>0.000000</td>\n",
       "      <td>0.000000</td>\n",
       "      <td>0.0</td>\n",
       "      <td>1.000000</td>\n",
       "      <td>0.000000</td>\n",
       "    </tr>\n",
       "    <tr>\n",
       "      <th>max</th>\n",
       "      <td>106.432877</td>\n",
       "      <td>9647.000000</td>\n",
       "      <td>5.000000</td>\n",
       "      <td>32.000000</td>\n",
       "      <td>5.000000</td>\n",
       "      <td>87.000000</td>\n",
       "      <td>21.000000</td>\n",
       "      <td>4.000000</td>\n",
       "      <td>19.000000</td>\n",
       "      <td>73.000000</td>\n",
       "      <td>12.000000</td>\n",
       "      <td>66.000000</td>\n",
       "      <td>1.000000</td>\n",
       "      <td>1.000000</td>\n",
       "      <td>0.0</td>\n",
       "      <td>1.000000</td>\n",
       "      <td>1.000000</td>\n",
       "    </tr>\n",
       "  </tbody>\n",
       "</table>\n",
       "</div>"
      ],
      "text/plain": [
       "       idade_empresa_anos     qt_filiais      cod_sg_uf    cod_de_ramo  \\\n",
       "count       462298.000000  462298.000000  462298.000000  462298.000000   \n",
       "mean             9.948677      28.737044       2.693442      12.867036   \n",
       "std              9.615664     468.626094       1.412396       9.777025   \n",
       "min              0.016438       0.000000       0.000000       0.000000   \n",
       "25%              2.756164       0.000000       2.000000       5.000000   \n",
       "50%              6.704110       0.000000       3.000000       5.000000   \n",
       "75%             14.465753       0.000000       4.000000      22.000000   \n",
       "max            106.432877    9647.000000       5.000000      32.000000   \n",
       "\n",
       "           cod_setor  cod_nm_divisao  cod_nm_segmento  cod_de_nivel_atividade  \\\n",
       "count  462298.000000   462298.000000    462298.000000           462298.000000   \n",
       "mean        2.834875       35.190561        10.320205                1.235606   \n",
       "std         1.887715       22.762827         4.476378                1.002345   \n",
       "min         0.000000        0.000000         0.000000                0.000000   \n",
       "25%         1.000000       28.000000         9.000000                0.000000   \n",
       "50%         2.000000       30.000000         9.000000                2.000000   \n",
       "75%         5.000000       36.000000        13.000000                2.000000   \n",
       "max         5.000000       87.000000        21.000000                4.000000   \n",
       "\n",
       "       cod_nm_meso_regiao  cod_nm_micro_regiao  \\\n",
       "count       462298.000000        462298.000000   \n",
       "mean             7.694688            40.247055   \n",
       "std              4.706049            21.892984   \n",
       "min              0.000000             0.000000   \n",
       "25%              4.000000            27.000000   \n",
       "50%              8.000000            43.000000   \n",
       "75%             12.000000            60.000000   \n",
       "max             19.000000            73.000000   \n",
       "\n",
       "       cod_de_faixa_faturamento_estimado  cod_de_natureza_juridica  \\\n",
       "count                      462298.000000             462298.000000   \n",
       "mean                            7.682363                 25.368922   \n",
       "std                             3.832492                 18.805287   \n",
       "min                             0.000000                  0.000000   \n",
       "25%                             7.000000                 17.000000   \n",
       "50%                            10.000000                 17.000000   \n",
       "75%                            10.000000                 17.000000   \n",
       "max                            12.000000                 66.000000   \n",
       "\n",
       "           cod_fl_me      cod_fl_sa  cod_fl_epp     cod_fl_mei    cod_fl_ltda  \n",
       "count  462298.000000  462298.000000    462298.0  462298.000000  462298.000000  \n",
       "mean        0.002628       0.018239         0.0       0.326413       0.002687  \n",
       "std         0.051198       0.133816         0.0       0.468901       0.051763  \n",
       "min         0.000000       0.000000         0.0       0.000000       0.000000  \n",
       "25%         0.000000       0.000000         0.0       0.000000       0.000000  \n",
       "50%         0.000000       0.000000         0.0       0.000000       0.000000  \n",
       "75%         0.000000       0.000000         0.0       1.000000       0.000000  \n",
       "max         1.000000       1.000000         0.0       1.000000       1.000000  "
      ]
     },
     "execution_count": 29,
     "metadata": {},
     "output_type": "execute_result"
    }
   ],
   "source": [
    "df_nao_nulos.describe()"
   ]
  },
  {
   "cell_type": "code",
   "execution_count": 30,
   "metadata": {},
   "outputs": [
    {
     "data": {
      "image/png": "[encoded data removed]",
      "text/plain": [
       "<Figure size 432x288 with 2 Axes>"
      ]
     },
     "metadata": {
      "needs_background": "light"
     },
     "output_type": "display_data"
    }
   ],
   "source": [
    "# Corelação entre as features selecionadas para treinamento\n",
    "sns.heatmap(df_nao_nulos[train].corr());"
   ]
  },
  {
   "cell_type": "markdown",
   "metadata": {},
   "source": [
    "### Analisando os Portfólios"
   ]
  },
  {
   "cell_type": "code",
   "execution_count": 31,
   "metadata": {},
   "outputs": [
    {
     "name": "stdout",
     "output_type": "stream",
     "text": [
      "O cliente 1 tem um portfólio com: 555 clientes\n",
      "O cliente 2 tem um portfólio com: 566 clientes\n",
      "O cliente 3 tem um portfólio com: 265 clientes\n"
     ]
    }
   ],
   "source": [
    "# Verificando tamando dos clientes\n",
    "print('O cliente 1 tem um portfólio com:', df1.shape[0], 'clientes')\n",
    "print('O cliente 2 tem um portfólio com:', df2.shape[0], 'clientes')\n",
    "print('O cliente 3 tem um portfólio com:', df3.shape[0], 'clientes')"
   ]
  },
  {
   "cell_type": "code",
   "execution_count": 32,
   "metadata": {},
   "outputs": [],
   "source": [
    "# Adicionando identificação dos portifólios\n",
    "df1['portfolio'] = 1\n",
    "df2['portfolio'] = 2\n",
    "df3['portfolio'] = 3"
   ]
  },
  {
   "cell_type": "code",
   "execution_count": 33,
   "metadata": {},
   "outputs": [
    {
     "name": "stdout",
     "output_type": "stream",
     "text": [
      "\n",
      "*** Base original***\n",
      "0.0    461020\n",
      "2.0       566\n",
      "1.0       555\n",
      "3.0       265\n",
      "Name: portfolio, dtype: int64\n",
      "\n",
      "*** Base Após Tratamento***\n",
      "0.0    461020\n",
      "2.0       566\n",
      "1.0       555\n",
      "3.0       265\n",
      "Name: portfolio, dtype: int64\n"
     ]
    }
   ],
   "source": [
    "# Juntando os clientes\n",
    "df_clientes = df1.append(df2).append(df3)\n",
    "# Identificando os clientes na base de mercado\n",
    "df = df.join(df_clientes.set_index('id'), on='id')\n",
    "df_nao_nulos = df_nao_nulos.join(df_clientes.set_index('id'), on='id')\n",
    "# Preenchendo os demais portifolios do mercado como 0\n",
    "df['portfolio'].fillna(0, inplace=True)\n",
    "df_nao_nulos['portfolio'].fillna(0, inplace=True)\n",
    "print('\\n*** Base original***')\n",
    "print(df['portfolio'].value_counts())\n",
    "print('\\n*** Base Após Tratamento***')\n",
    "print(df_nao_nulos['portfolio'].value_counts())"
   ]
  },
  {
   "cell_type": "code",
   "execution_count": 34,
   "metadata": {},
   "outputs": [],
   "source": [
    "# Separando os portifolios para Analise\n",
    "df_me = df.query('portfolio == 0')\n",
    "df_p1 = df.query('portfolio == 1')\n",
    "df_p2 = df.query('portfolio == 2')\n",
    "df_p3 = df.query('portfolio == 3')"
   ]
  },
  {
   "cell_type": "code",
   "execution_count": 35,
   "metadata": {},
   "outputs": [
    {
     "data": {
      "image/png": "[encoded data removed]",
      "text/plain": [
       "<Figure size 360x360 with 1 Axes>"
      ]
     },
     "metadata": {
      "needs_background": "light"
     },
     "output_type": "display_data"
    },
    {
     "data": {
      "image/png": "[encoded data removed]",
      "text/plain": [
       "<Figure size 1080x360 with 3 Axes>"
      ]
     },
     "metadata": {
      "needs_background": "light"
     },
     "output_type": "display_data"
    }
   ],
   "source": [
    "# Analisando os portfólios por UF\n",
    "df_uf = df[['sg_uf','portfolio']]\n",
    "\n",
    "sns.catplot(x=\"sg_uf\", \n",
    "            kind=\"count\", \n",
    "            palette=\"ch:.25\", \n",
    "            data=df_uf.query('portfolio in (0,1,2,3)'));\n",
    "\n",
    "sns.catplot(x=\"sg_uf\", \n",
    "            kind=\"count\", \n",
    "            palette=\"ch:.25\", \n",
    "            data=df_uf.query('portfolio in (1,2,3)'),\n",
    "            col=\"portfolio\");"
   ]
  },
  {
   "cell_type": "code",
   "execution_count": 36,
   "metadata": {},
   "outputs": [
    {
     "name": "stdout",
     "output_type": "stream",
     "text": [
      "Os clientes do portfólio 1 tem uma faixa de faturamento DE R$ 81.000,01 A R$ 360.000,00\n",
      "Os clientes do portfólio 2 tem uma faixa de faturamento DE R$ 10.000.000,01 A R$ 30.000.000,00\n",
      "Os clientes do portfólio 3 tem uma faixa de faturamento DE R$ 30.000.000,01 A R$ 100.000.000,00\n"
     ]
    }
   ],
   "source": [
    "# Analisando a FAIXA DE FATURAMENTO dos portfólios\n",
    "fat1 = df_p1['de_faixa_faturamento_estimado'].value_counts().index[0]\n",
    "fat2 = df_p2['de_faixa_faturamento_estimado'].value_counts().index[0]\n",
    "fat3 = df_p3['de_faixa_faturamento_estimado'].value_counts().index[0]\n",
    "print('Os clientes do portfólio 1 tem uma faixa de faturamento', fat1)\n",
    "print('Os clientes do portfólio 2 tem uma faixa de faturamento', fat2)\n",
    "print('Os clientes do portfólio 3 tem uma faixa de faturamento', fat3)\n"
   ]
  },
  {
   "cell_type": "code",
   "execution_count": 37,
   "metadata": {},
   "outputs": [
    {
     "name": "stdout",
     "output_type": "stream",
     "text": [
      "Os clientes do portfólio 1 atuam no ramo COMERCIO VAREJISTA\n",
      "Os clientes do portfólio 2 atuam no ramo ADMINISTRACAO PUBLICA, DEFESA E SEGURIDADE SOCIAL\n",
      "Os clientes do portfólio 3 atuam no ramo ADMINISTRACAO PUBLICA, DEFESA E SEGURIDADE SOCIAL\n"
     ]
    }
   ],
   "source": [
    "# Analisando o RAMO dos portfólios\n",
    "ramo1 = df_p1['de_ramo'].value_counts().index[0]\n",
    "ramo2 = df_p2['de_ramo'].value_counts().index[0]\n",
    "ramo3 = df_p3['de_ramo'].value_counts().index[0]\n",
    "print('Os clientes do portfólio 1 atuam no ramo', ramo1)\n",
    "print('Os clientes do portfólio 2 atuam no ramo', ramo2)\n",
    "print('Os clientes do portfólio 3 atuam no ramo', ramo3)"
   ]
  },
  {
   "cell_type": "code",
   "execution_count": 38,
   "metadata": {},
   "outputs": [
    {
     "name": "stdout",
     "output_type": "stream",
     "text": [
      "Os clientes do portfólio 1 atuam no setor COMERCIO\n",
      "Os clientes do portfólio 2 atuam no setor SERVIÇO\n",
      "Os clientes do portfólio 3 atuam no setor SERVIÇO\n"
     ]
    }
   ],
   "source": [
    "# Analisando o SETOR dos portfólios\n",
    "setor1 = df_p1['setor'].value_counts().index[0]\n",
    "setor2 = df_p2['setor'].value_counts().index[0]\n",
    "setor3 = df_p3['setor'].value_counts().index[0]\n",
    "print('Os clientes do portfólio 1 atuam no setor', setor1)\n",
    "print('Os clientes do portfólio 2 atuam no setor', setor2)\n",
    "print('Os clientes do portfólio 3 atuam no setor', setor3)"
   ]
  },
  {
   "cell_type": "markdown",
   "metadata": {},
   "source": [
    "### Analise apenas nas colunas de treinamento do modelo"
   ]
  },
  {
   "cell_type": "code",
   "execution_count": 39,
   "metadata": {},
   "outputs": [
    {
     "name": "stdout",
     "output_type": "stream",
     "text": [
      "Coluna analisada: cod_de_natureza_juridica\n",
      "Portfolio 1 valor mais encontrado no portifolio 17\n",
      "Portfolio 2 valor mais encontrado no portifolio 60\n",
      "Portfolio 3 valor mais encontrado no portifolio 33\n",
      "Coluna analisada: cod_sg_uf\n",
      "Portfolio 1 valor mais encontrado no portifolio 2\n",
      "Portfolio 2 valor mais encontrado no portifolio 1\n",
      "Portfolio 3 valor mais encontrado no portifolio 2\n",
      "Coluna analisada: cod_de_ramo\n",
      "Portfolio 1 valor mais encontrado no portifolio 5\n",
      "Portfolio 2 valor mais encontrado no portifolio 0\n",
      "Portfolio 3 valor mais encontrado no portifolio 0\n",
      "Coluna analisada: cod_setor\n",
      "Portfolio 1 valor mais encontrado no portifolio 1\n",
      "Portfolio 2 valor mais encontrado no portifolio 5\n",
      "Portfolio 3 valor mais encontrado no portifolio 5\n",
      "Coluna analisada: cod_nm_divisao\n",
      "Portfolio 1 valor mais encontrado no portifolio 30\n",
      "Portfolio 2 valor mais encontrado no portifolio 0\n",
      "Portfolio 3 valor mais encontrado no portifolio 0\n",
      "Coluna analisada: cod_nm_segmento\n",
      "Portfolio 1 valor mais encontrado no portifolio 9\n",
      "Portfolio 2 valor mais encontrado no portifolio 0\n",
      "Portfolio 3 valor mais encontrado no portifolio 0\n",
      "Coluna analisada: cod_de_nivel_atividade\n",
      "Portfolio 1 valor mais encontrado no portifolio 2\n",
      "Portfolio 2 valor mais encontrado no portifolio 0\n",
      "Portfolio 3 valor mais encontrado no portifolio 0\n",
      "Coluna analisada: cod_nm_meso_regiao\n",
      "Portfolio 1 valor mais encontrado no portifolio 2\n",
      "Portfolio 2 valor mais encontrado no portifolio 2\n",
      "Portfolio 3 valor mais encontrado no portifolio 8\n",
      "Coluna analisada: cod_de_faixa_faturamento_estimado\n",
      "Portfolio 1 valor mais encontrado no portifolio 10\n",
      "Portfolio 2 valor mais encontrado no portifolio 3\n",
      "Portfolio 3 valor mais encontrado no portifolio 5\n"
     ]
    }
   ],
   "source": [
    "# Analise dos portfólios\n",
    "for x in train:\n",
    "    print('Coluna analisada:', x)\n",
    "    for y in (range(1,4)):\n",
    "        result = df_nao_nulos.query('portfolio == @y')[x].value_counts().index[0]\n",
    "        print('Portfolio', y, 'valor mais encontrado no portifolio', result)"
   ]
  },
  {
   "cell_type": "markdown",
   "metadata": {},
   "source": [
    "### Modelo Machine Learning"
   ]
  },
  {
   "cell_type": "code",
   "execution_count": 40,
   "metadata": {},
   "outputs": [],
   "source": [
    "# Selecionando apenas as colunas para treinamento do modelo\n",
    "X = df_nao_nulos[train]"
   ]
  },
  {
   "cell_type": "code",
   "execution_count": 41,
   "metadata": {},
   "outputs": [
    {
     "data": {
      "text/plain": [
       "KMeans(algorithm='auto', copy_x=True, init='k-means++', max_iter=300,\n",
       "       n_clusters=4, n_init=10, n_jobs=None, precompute_distances='auto',\n",
       "       random_state=None, tol=0.0001, verbose=0)"
      ]
     },
     "execution_count": 41,
     "metadata": {},
     "output_type": "execute_result"
    }
   ],
   "source": [
    "kmeans = KMeans(n_clusters = 4)\n",
    "kmeans.fit(X)"
   ]
  },
  {
   "cell_type": "markdown",
   "metadata": {},
   "source": [
    "**K-means**\n",
    "\n",
    "O k-means é um método de Clustering que divide as observações dentre k grupos.\n",
    "\n",
    "Para definir o número de k utilizei o metodo elbow e a avaliação de performance do modelo."
   ]
  },
  {
   "cell_type": "code",
   "execution_count": 42,
   "metadata": {},
   "outputs": [
    {
     "data": {
      "text/plain": [
       "array([[59.58506813,  2.81834311, 10.62158166,  2.53282315, 27.10240821,\n",
       "         9.45866058,  0.94546035,  7.72103283,  8.67350729],\n",
       "       [16.48708398,  2.6267519 ,  5.56501485,  1.45111969, 31.08841881,\n",
       "         9.35373945,  1.29640406,  7.75322962,  7.35048389],\n",
       "       [23.79927216,  2.75595356, 22.07527981,  4.24930184, 75.27728302,\n",
       "        12.67652879,  1.29172989,  7.40186248,  6.95046947],\n",
       "       [14.1173226 ,  2.66095757, 22.69106942,  4.93260342,  9.93273362,\n",
       "        10.95350654,  1.31852992,  7.84339232,  8.26950346]])"
      ]
     },
     "execution_count": 42,
     "metadata": {},
     "output_type": "execute_result"
    }
   ],
   "source": [
    "# Centroides das features\n",
    "kmeans.cluster_centers_"
   ]
  },
  {
   "cell_type": "code",
   "execution_count": 43,
   "metadata": {},
   "outputs": [
    {
     "data": {
      "text/plain": [
       "(462406, 34)"
      ]
     },
     "execution_count": 43,
     "metadata": {},
     "output_type": "execute_result"
    }
   ],
   "source": [
    "df_nao_nulos.shape"
   ]
  },
  {
   "cell_type": "code",
   "execution_count": 44,
   "metadata": {},
   "outputs": [],
   "source": [
    "# Adicionando as classe no df\n",
    "labels = kmeans.labels_\n",
    "df_nao_nulos['kmeans'] = labels"
   ]
  },
  {
   "cell_type": "code",
   "execution_count": 45,
   "metadata": {},
   "outputs": [
    {
     "data": {
      "image/png": "[encoded data removed]",
      "text/plain": [
       "<Figure size 432x288 with 1 Axes>"
      ]
     },
     "metadata": {
      "needs_background": "light"
     },
     "output_type": "display_data"
    }
   ],
   "source": [
    "# Visualizando resultados\n",
    "plt.scatter(X['cod_de_natureza_juridica'], X['cod_de_faixa_faturamento_estimado'], s = 100, c = kmeans.labels_)\n",
    "plt.scatter(kmeans.cluster_centers_[:, 0], kmeans.cluster_centers_[:, 8], s = 300, c = 'red', label = 'Centroids')\n",
    "plt.title('Market Clusters and Centroids')\n",
    "plt.xlabel('cod_sg_uf')\n",
    "plt.ylabel('cod_de_faixa_faturamento_estimado')\n",
    "plt.legend()\n",
    "plt.show()"
   ]
  },
  {
   "cell_type": "code",
   "execution_count": 46,
   "metadata": {},
   "outputs": [
    {
     "data": {
      "image/png": "[encoded data removed]",
      "text/plain": [
       "<Figure size 432x288 with 1 Axes>"
      ]
     },
     "metadata": {
      "needs_background": "light"
     },
     "output_type": "display_data"
    }
   ],
   "source": [
    "# Visualizando resultados\n",
    "plt.scatter(X['cod_de_ramo'], X['cod_de_faixa_faturamento_estimado'], s = 100, c = kmeans.labels_)\n",
    "plt.scatter(kmeans.cluster_centers_[:, 2], kmeans.cluster_centers_[:, 8], s = 300, c = 'red', label = 'Centroids')\n",
    "plt.title('Market Clusters and Centroids')\n",
    "plt.xlabel('cod_sg_uf')\n",
    "plt.ylabel('cod_de_faixa_faturamento_estimado')\n",
    "plt.legend()\n",
    "plt.show()"
   ]
  },
  {
   "cell_type": "code",
   "execution_count": 47,
   "metadata": {},
   "outputs": [
    {
     "name": "stdout",
     "output_type": "stream",
     "text": [
      "Divisão das classe pelo K-means\n"
     ]
    },
    {
     "data": {
      "text/plain": [
       "1    202428\n",
       "2     90949\n",
       "0     84544\n",
       "3     84485\n",
       "Name: kmeans, dtype: int64"
      ]
     },
     "execution_count": 47,
     "metadata": {},
     "output_type": "execute_result"
    }
   ],
   "source": [
    "# Verificando como ficou a divisão dos clusters\n",
    "print('Divisão das classe pelo K-means')\n",
    "df_nao_nulos['kmeans'].value_counts()"
   ]
  },
  {
   "cell_type": "markdown",
   "metadata": {},
   "source": [
    "### Analise dos Leds Gerados"
   ]
  },
  {
   "cell_type": "code",
   "execution_count": 48,
   "metadata": {},
   "outputs": [],
   "source": [
    "# Filtrando apenas um portfólio\n",
    "df_port = df_nao_nulos.query('kmeans == 3 and portfolio not in (\"1\")')"
   ]
  },
  {
   "cell_type": "code",
   "execution_count": 49,
   "metadata": {},
   "outputs": [
    {
     "data": {
      "image/png": "[encoded data removed]",
      "text/plain": [
       "<Figure size 360x360 with 1 Axes>"
      ]
     },
     "metadata": {
      "needs_background": "light"
     },
     "output_type": "display_data"
    }
   ],
   "source": [
    "# Leads por UF\n",
    "sns.catplot(x=\"sg_uf\", \n",
    "            kind=\"count\", \n",
    "            palette=\"ch:.25\", \n",
    "            data=df_port)\n",
    "plt.title('Quantidade de Leads por UF')\n",
    "plt.xlabel('UF')\n",
    "plt.ylabel('Qdt Leads')\n",
    "#plt.legend()\n",
    "plt.show()"
   ]
  },
  {
   "cell_type": "code",
   "execution_count": 50,
   "metadata": {},
   "outputs": [
    {
     "data": {
      "image/png": "[encoded data removed]",
      "text/plain": [
       "<Figure size 432x288 with 1 Axes>"
      ]
     },
     "metadata": {
      "needs_background": "light"
     },
     "output_type": "display_data"
    }
   ],
   "source": [
    "# Leads por Setor\n",
    "treemap = df_port['setor'].value_counts()\n",
    "sizes = treemap.values\n",
    "label = treemap.index\n",
    "sqy.plot(sizes=sizes, label=label, alpha=.8 )\n",
    "plt.title('Quantidade de Leads por Setor')\n",
    "plt.axis('off')\n",
    "plt.show()"
   ]
  },
  {
   "cell_type": "code",
   "execution_count": 51,
   "metadata": {},
   "outputs": [
    {
     "data": {
      "text/plain": [
       "SERVICOS DIVERSOS                                    37931\n",
       "SERVICOS DE ALOJAMENTO/ALIMENTACAO                   25894\n",
       "SERVICOS DE SAUDE                                     4574\n",
       "SERVICOS ADMINISTRATIVOS                              4386\n",
       "SERVICOS PROFISSIONAIS, TECNICOS E CIENTIFICOS        2354\n",
       "TRANSPORTE, ARMAZENAGEM E CORREIO                     2243\n",
       "ADMINISTRACAO PUBLICA, DEFESA E SEGURIDADE SOCIAL     1639\n",
       "CULTURA, ESPORTE E RECREACAO                          1451\n",
       "PRODUTOS DE AGROPECUARIA                              1134\n",
       "SEGUROS, PLANOS DE PREVIDENCIA E PLANOS DE SAUDE       776\n",
       "TELECOM                                                716\n",
       "SERVICOS DE SANEAMENTO BASICO                          532\n",
       "INDUSTRIA DIGITAL                                      453\n",
       "SERVICOS FINANCEIROS                                   390\n",
       "INDUSTRIAS EXTRATIVAS                                   12\n",
       "Name: de_ramo, dtype: int64"
      ]
     },
     "execution_count": 51,
     "metadata": {},
     "output_type": "execute_result"
    }
   ],
   "source": [
    "# Top por coluna\n",
    "opcao = 'de_ramo'\n",
    "df_port[opcao].value_counts()"
   ]
  },
  {
   "cell_type": "markdown",
   "metadata": {},
   "source": [
    "### Validação do Modelo"
   ]
  },
  {
   "cell_type": "markdown",
   "metadata": {},
   "source": [
    "#### Metódo Elbow"
   ]
  },
  {
   "cell_type": "code",
   "execution_count": 52,
   "metadata": {},
   "outputs": [
    {
     "name": "stdout",
     "output_type": "stream",
     "text": [
      "1 476744653.04468596\n",
      "2 280062056.8478891\n",
      "3 157763938.1321019\n",
      "4 112853859.33417426\n",
      "5 85559335.65717953\n",
      "6 72251601.28238304\n",
      "7 63056695.97468014\n",
      "8 57593453.8731775\n",
      "9 51672616.85723262\n",
      "10 47409487.09376497\n"
     ]
    },
    {
     "data": {
      "image/png": "[encoded data removed]",
      "text/plain": [
       "<Figure size 432x288 with 1 Axes>"
      ]
     },
     "metadata": {
      "needs_background": "light"
     },
     "output_type": "display_data"
    }
   ],
   "source": [
    "# Validação direta da divisão dos clusters\n",
    "X_elbow = X\n",
    "wcss = []\n",
    " \n",
    "for i in range(1, 11):\n",
    "    kmeans_elbow = KMeans(n_clusters = i)\n",
    "    kmeans_elbow.fit(X_elbow)\n",
    "    print (i, kmeans_elbow.inertia_)\n",
    "    wcss.append(kmeans_elbow.inertia_)  \n",
    "plt.plot(range(1, 11), wcss)\n",
    "plt.title('O Metodo Elbow')\n",
    "plt.xlabel('Numero de Clusters')\n",
    "plt.ylabel('WSS') #within cluster sum of squares\n",
    "plt.show()"
   ]
  },
  {
   "cell_type": "markdown",
   "metadata": {},
   "source": [
    "O gráfico mostra o somatório da variância dos dados em relação ao número de clusters para conseguir verificar até que ponto com o aumento do número de clusters não existe ganho.\n",
    "\n",
    "Observe que a partir do número de 2 clusters as distâncias dos erros quadráticos praticamente se estabiliza.\n",
    "\n",
    "A partir desse ponto que não existe uma discrepância tão significativa em termos de variância."
   ]
  },
  {
   "cell_type": "markdown",
   "metadata": {},
   "source": [
    "#### Validação da Performance por Portfólio"
   ]
  },
  {
   "cell_type": "code",
   "execution_count": 53,
   "metadata": {},
   "outputs": [
    {
     "name": "stdout",
     "output_type": "stream",
     "text": [
      "K = 3\n",
      "Portfolio1 Cluster 0 - Percentual de acerto 79%\n",
      "Portfolio2 Cluster 1 - Percentual de acerto 55%\n",
      "Portfolio3 Cluster 0 - Percentual de acerto 53%\n",
      "===============================================\n",
      "K = 4\n",
      "Portfolio1 Cluster 1 - Percentual de acerto 80%\n",
      "Portfolio2 Cluster 0 - Percentual de acerto 55%\n",
      "Portfolio3 Cluster 3 - Percentual de acerto 49%\n",
      "===============================================\n",
      "K = 5\n",
      "Portfolio1 Cluster 0 - Percentual de acerto 80%\n",
      "Portfolio2 Cluster 1 - Percentual de acerto 48%\n",
      "Portfolio3 Cluster 3 - Percentual de acerto 49%\n",
      "===============================================\n",
      "K = 6\n",
      "Portfolio1 Cluster 0 - Percentual de acerto 80%\n",
      "Portfolio2 Cluster 5 - Percentual de acerto 35%\n",
      "Portfolio3 Cluster 5 - Percentual de acerto 62%\n",
      "===============================================\n",
      "K = 7\n",
      "Portfolio1 Cluster 0 - Percentual de acerto 80%\n",
      "Portfolio2 Cluster 2 - Percentual de acerto 33%\n",
      "Portfolio3 Cluster 3 - Percentual de acerto 45%\n",
      "===============================================\n",
      "K = 8\n",
      "Portfolio1 Cluster 3 - Percentual de acerto 74%\n",
      "Portfolio2 Cluster 5 - Percentual de acerto 33%\n",
      "Portfolio3 Cluster 7 - Percentual de acerto 46%\n",
      "===============================================\n"
     ]
    }
   ],
   "source": [
    "# Validação da divisão dos clusters\n",
    "X_valida = X\n",
    "df_valida = df_nao_nulos\n",
    "for i in range(3, 9):\n",
    "    kmeans_valida = KMeans(n_clusters = i)\n",
    "    kmeans_valida.fit(X_valida)\n",
    "    df_valida['kmeans'] = kmeans_valida.labels_\n",
    "    print('K =', i)\n",
    "    for j in range(1,4):\n",
    "        per_valida = df_valida.query('portfolio == @j')['kmeans'].value_counts().max()/df_valida.query('portfolio == @j').shape[0]\n",
    "        class_valida = df_valida.query('portfolio == @j')['kmeans'].value_counts().index[0]\n",
    "        print('Portfolio{}'.format(j), 'Cluster', class_valida, '- Percentual de acerto {:.0%}'.format(per_valida))\n",
    "    print(47*'=')"
   ]
  },
  {
   "cell_type": "markdown",
   "metadata": {},
   "source": [
    "O aumento do numero de k não traz um balanceamento do percentual de acerto nos portifólios, e nem um ganho.\n",
    "\n",
    "Com 4 clusters a performance obtida no portfólio1 foi de 80%, no portfólio2 de 55% e no portfólio3 de 49%.\n",
    "\n",
    "O que significa por exemplo que o Cluster 0 representa 80% dos seus clientes atuais do portfólio1.\n",
    "\n"
   ]
  },
  {
   "cell_type": "code",
   "execution_count": null,
   "metadata": {},
   "outputs": [],
   "source": []
  }
 ],
 "metadata": {
  "kernelspec": {
   "display_name": "Python 3",
   "language": "python",
   "name": "python3"
  },
  "language_info": {
   "codemirror_mode": {
    "name": "ipython",
    "version": 3
   },
   "file_extension": ".py",
   "mimetype": "text/x-python",
   "name": "python",
   "nbconvert_exporter": "python",
   "pygments_lexer": "ipython3",
   "version": "3.7.4"
  }
 },
 "nbformat": 4,
 "nbformat_minor": 4
}
